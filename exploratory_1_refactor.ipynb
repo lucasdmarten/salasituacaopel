{
 "cells": [
  {
   "cell_type": "code",
   "execution_count": 2,
   "id": "0f16a251",
   "metadata": {},
   "outputs": [],
   "source": [
    "import pandas as pd\n",
    "from datetime import datetime, timezone\n",
    "from scipy import stats\n",
    "import matplotlib.pyplot as plt\n",
    "import requests, json\n",
    "import numpy as np\n",
    "from collections import defaultdict \n",
    "import os"
   ]
  },
  {
   "cell_type": "code",
   "execution_count": 10,
   "id": "c23a4cd3",
   "metadata": {},
   "outputs": [],
   "source": [
    "@np.vectorize\n",
    "def to_categorical(data):\n",
    "    response = {\n",
    "        \"N\":0, \"NE\":1, \"E\":2, \"SE\":3, \"S\":4, \"SW\":5, \"W\":6, \"NW\":7,\n",
    "    }\n",
    "    return response.get(data)\n",
    "\n",
    "def degrees_to_radians_adjusted(degrees):\n",
    "    return (180 - degrees) * np.pi / 180\n",
    "\n",
    "@np.vectorize\n",
    "def degree2directions(data):\n",
    "    threasholds = {\n",
    "        (0, 22.5): \"N\",\n",
    "        (22.5, 67.5): \"NE\",\n",
    "        (67.5, 112.5): \"E\",\n",
    "        (112.5, 157.5): \"SE\",\n",
    "        (157.5, 202.5): \"S\",\n",
    "        (202.5, 247.5): \"SW\",\n",
    "        (247.5, 292.5): \"W\",\n",
    "        (292.5, 337.5): \"NW\",\n",
    "        (337.5, 360): \"N\"\n",
    "    }\n",
    "    for threashold, direction in threasholds.items():\n",
    "        if threashold[0] <= data < threashold[1]:\n",
    "            return direction\n",
    "    \n",
    "def read_vazao():\n",
    "    df_vazao = pd.read_excel('../../dados/20240507_vazao_enchente.xlsx')\n",
    "    df_dict = defaultdict(list)\n",
    "    for i, df_sel in df_vazao.iterrows():\n",
    "        time = datetime.strptime(f\"{df_sel.data}T{df_sel.hora_utc}\", \"%d/%m/%YT%H:%M:%S\")\n",
    "        df_dict['times'].append(time)\n",
    "        df_dict['vazao_m3s-1_bt'].append(df_sel['vazao_m3s-1_bt'])\n",
    "        #df_dict['v_max_ms-1_bt'].append(df_sel['v_max_ms-1_bt'])\n",
    "        #df_dict['v_media_ms-1_bt'].append(df_sel['v_media_ms-1_bt'])    \n",
    "    df_vazao = pd.DataFrame(df_dict)\n",
    "    df_vazao.index = [pd.to_datetime(t).tz_localize('UTC') for t in df_vazao.times]\n",
    "    df_vazao = df_vazao.drop(columns=['times'])\n",
    "    return df_vazao\n",
    "\n",
    "    "
   ]
  },
  {
   "cell_type": "code",
   "execution_count": 11,
   "id": "0c00ff16",
   "metadata": {},
   "outputs": [],
   "source": [
    "def read_level(t0, t1, _id=303, params=\"water_l1,avg_water_l1,water_l1_ibge,avg_water_l1_ibge,water_l1_dhn,avg_water_l1_dhn\"):\n",
    "    fmt = \"%Y-%m-%dT%H:%M:%S\"\n",
    "    tref = datetime.strptime('1970-01-01T00', \"%Y-%m-%dT%H\").replace(tzinfo=timezone.utc)\n",
    "    t0, t1 = datetime.strptime(t0, fmt).replace(tzinfo=timezone.utc), \\\n",
    "                datetime.strptime(t1, fmt).replace(tzinfo=timezone.utc)\n",
    "    print(f'requesting data from {t0} to {t1}')\n",
    "    url = \"https://simcosta.furg.br/api/intrans_data?\" \\\n",
    "            f\"boiaID={_id}&type=json&time1={(t0 - tref).total_seconds()}&time2={(t1 - tref).total_seconds()}\" \\\n",
    "            f\"&params={params}\"\n",
    "    response_level = requests.get(url).json()\n",
    "    parse_response_level = [\n",
    "        ({\n",
    "            'timestamp': [r['timestamp']], \\\n",
    "            'YEAR': [r['YEAR']], \\\n",
    "            'MONTH': [r['MONTH']], \\\n",
    "            'DAY': [r['DAY']], \\\n",
    "            'HOUR': [r['HOUR']], \\\n",
    "            'MINUTE': [r['MINUTE']], \\\n",
    "            'SECOND': [r['SECOND']], \\\n",
    "            'water_l1': [r['water_l1']], \\\n",
    "            'water_l1_ibge': [r['water_l1_ibge']], \\\n",
    "            'water_l1_dhn': [r['water_l1_dhn']], \\\n",
    "            'avg_water_l1': [r['avg_water_l1']], \\\n",
    "            'avg_water_l1_ibge': [r['avg_water_l1_ibge']], \\\n",
    "            'avg_water_l1_dhn': [r['avg_water_l1_dhn']]\n",
    "        }) for r in response_level\n",
    "    ]\n",
    "    df_level = pd.concat([pd.DataFrame(p) for p in parse_response_level])\n",
    "    df_level = df_level.drop(columns=['YEAR', 'MONTH', 'DAY', 'HOUR', 'MINUTE', 'SECOND'])\n",
    "    for i, col in enumerate(df_level.columns):\n",
    "        if i > 0:\n",
    "            df_level.loc[:, col] = df_level[col].astype('float')\n",
    "    df_level.index = pd.to_datetime(df_level['timestamp'])\n",
    "    df_level = df_level.drop(columns=['timestamp']).dropna()\n",
    "    return df_level"
   ]
  },
  {
   "cell_type": "code",
   "execution_count": 12,
   "id": "655b6a19",
   "metadata": {},
   "outputs": [],
   "source": [
    "def read_wind(\n",
    "    t0, t1, _id=303, \n",
    "    params=\"wind_speed,Avg_Wnd_Sp,wind_direction_n,Avg_Wnd_Dir_N\"\n",
    "):\n",
    "    fmt = \"%Y-%m-%dT%H:%M:%S\"\n",
    "    tref = datetime.strptime('1970-01-01T00', \"%Y-%m-%dT%H\").replace(tzinfo=timezone.utc)\n",
    "    t0, t1 = datetime.strptime(t0, fmt).replace(tzinfo=timezone.utc), \\\n",
    "                datetime.strptime(t1, fmt).replace(tzinfo=timezone.utc)\n",
    "    print(f'requesting data from {t0} to {t1}')\n",
    "    url = \"https://simcosta.furg.br/api/intrans_data?\" \\\n",
    "            f\"boiaID={_id}&type=json&time1={(t0 - tref).total_seconds()}&time2={(t1 - tref).total_seconds()}\" \\\n",
    "            f\"&params={params}\"\n",
    "    \n",
    "    response = requests.get(url).json()\n",
    "    parse_response = [\n",
    "        ({\n",
    "            'timestamp': [r['timestamp']], \\\n",
    "            'YEAR': [r['YEAR']], \\\n",
    "            'MONTH': [r['MONTH']], \\\n",
    "            'DAY': [r['DAY']], \\\n",
    "            'HOUR': [r['HOUR']], \\\n",
    "            'MINUTE': [r['MINUTE']], \\\n",
    "            'SECOND': [r['SECOND']], \\\n",
    "            'wind_speed': [r['wind_speed']], \\\n",
    "            'Avg_Wnd_Sp': [r['Avg_Wnd_Sp']], \\\n",
    "            'wind_direction_N': [r['wind_direction_N']], \\\n",
    "        }) for r in response\n",
    "    ]\n",
    "    df_wind = pd.concat([pd.DataFrame(p) for p in parse_response])\n",
    "    df_wind = df_wind.drop(columns=['YEAR', 'MONTH', 'DAY', 'HOUR', 'MINUTE', 'SECOND'])\n",
    "    for i, col in enumerate(df_wind.columns):\n",
    "        if i > 0:\n",
    "            df_wind.loc[:, col] = df_wind[col].astype('float')\n",
    "    df_wind.index = pd.to_datetime(df_wind['timestamp'])\n",
    "    df_wind = df_wind.drop(columns=['timestamp']).dropna()\n",
    "    return df_wind"
   ]
  },
  {
   "cell_type": "code",
   "execution_count": 13,
   "id": "4a4a301f",
   "metadata": {},
   "outputs": [],
   "source": [
    "def get_lags(variable, ref_var):\n",
    "    laggeds = list()\n",
    "    for lag in np.arange(-72, 1, 1):\n",
    "        laggeds.append(pd.DataFrame({f'{str(lag).zfill(4)}':df[variable].shift(lag).values}))\n",
    "\n",
    "    laggeds = pd.concat(laggeds, axis=1)\n",
    "    laggeds = laggeds.assign(ref_var=df[ref_var].values).dropna()\n",
    "\n",
    "    corrs = [\n",
    "        np.corrcoef(laggeds[str(l)].values, laggeds['ref_var'])[0][1] \\\n",
    "        for i, l in enumerate(list(laggeds.columns)) if l != 'ref_var'\n",
    "    ]\n",
    "    return laggeds, corrs"
   ]
  },
  {
   "cell_type": "code",
   "execution_count": 14,
   "id": "2f6ec7d7",
   "metadata": {},
   "outputs": [],
   "source": [
    "def plot_lag_correlation(ref_var='water_l1_ibge',variables=['wind_speed', 'wind_direction_N']):\n",
    "    n_axs = len(variables)\n",
    "    fig, axs = plt.subplots(n_axs, 1, figsize=(30,20), sharey=True, sharex=True)\n",
    "    for i, variable in enumerate(variables):\n",
    "        laggeds, corrs = get_lags(variable, ref_var)\n",
    "        xticks = [int(i) for i in list(laggeds.columns) if i != 'ref_var']\n",
    "        \n",
    "        for j, c in enumerate(corrs):\n",
    "            if abs(c) >= 0.5:\n",
    "                axs[i].scatter(xticks[j], c, color='black')\n",
    "            \n",
    "        axs[i].plot(xticks, corrs)\n",
    "        for a in ['x', 'y']:\n",
    "            axs[i].tick_params(axis=a, labelsize=25)\n",
    "        axs[i].set_ylabel(f'{variable} correlation',fontsize=35)\n",
    "        axs[i].set_xlabel('lags',fontsize=35)\n",
    "        axs[i].set_title(f'{ref_var} x {variable}', fontsize=50)\n",
    "        axs[i].grid()\n",
    "    \n",
    "    plt.tight_layout()\n",
    "    plt.yticks(np.arange(-1,1+0.2,0.2), fontsize=35)\n",
    "    plt.xticks(np.arange(-72,1,1), rotation=45, fontsize=35)\n",
    "    path_out = \"figuras/2024051300/{name}.png\"\n",
    "    os.makedirs(os.path.dirname(path_out.format(name='lag_corr')), exist_ok=True)\n",
    "    plt.savefig(path_out.format(name='lagg_corr'))\n",
    "    print(path_out.format(name='speed'))\n",
    "    plt.legend()\n",
    "    plt.show()\n",
    "    \n",
    "    \n",
    "#variables = [\"wind_speed\",\"class_wind_direction_N\"]\n",
    " #\"Avg_Wnd_Sp\", \n",
    "#refvars = [\"water_l1_ibge\"]\n",
    "#[\"water_l1\", \"water_l1_ibge\", \"water_l1_dhn\", \"avg_water_l1\", \"avg_water_l1_ibge\", \"avg_water_l1_dhn\"]\n",
    "#for refvar in refvars:\n",
    "#    print(variables)\n",
    "#    plot_lag_correlation(refvar, variables)"
   ]
  },
  {
   "cell_type": "code",
   "execution_count": 15,
   "id": "b248ad19",
   "metadata": {},
   "outputs": [],
   "source": [
    "def plot_boxplot(df):\n",
    "    print('01 - *'*10)    \n",
    "    #df[['vazao_m3s-1_bt']].boxplot(figsize=(20,8))\n",
    "    #plt.xticks(rotation=45,fontsize=20);\n",
    "    #path_out = \"figuras/2024051300/{name}.png\"\n",
    "    #os.makedirs(os.path.dirname(path_out.format(name='vazao')), exist_ok=True)\n",
    "    #plt.savefig(path_out.format(name='vazao'))\n",
    "    #print(path_out.format(name='vazao'))\n",
    "    #plt.show()\n",
    "    \n",
    "    print('02 - *'*10)\n",
    "    df[['wind_direction_N']].boxplot(figsize=(20,8))\n",
    "    plt.xticks(fontsize=20, rotation=50);\n",
    "    #[i for i in range(len(drctions))]\n",
    "    path_out = \"figuras/2024051300/{name}.png\"\n",
    "    os.makedirs(os.path.dirname(path_out.format(name='direction')), exist_ok=True)\n",
    "    plt.savefig(path_out.format(name='direction'))\n",
    "    print(path_out.format(name='direction'))\n",
    "    plt.show()\n",
    "\n",
    "    print('03 - *'*10)\n",
    "    df[['water_l1', 'water_l1_ibge', 'water_l1_dhn',\n",
    "         'avg_water_l1_dhn', 'avg_water_l1_ibge']].boxplot(figsize=(20,8))\n",
    "    #.drop(columns=['wind_direction_N','vazao_m3s-1_bt'])\n",
    "    plt.xticks(rotation=45,fontsize=20);\n",
    "    path_out = \"figuras/2024051300/{name}.png\"\n",
    "    os.makedirs(os.path.dirname(path_out.format(name='level')), exist_ok=True)\n",
    "    plt.savefig(path_out.format(name='level'))\n",
    "    print(path_out.format(name='level'))\n",
    "    plt.show()\n",
    "    \n",
    "    print('04 - *'*10)\n",
    "    df[['wind_speed', 'Avg_Wnd_Sp']].boxplot(figsize=(20,8))\n",
    "    #.drop(columns=['wind_direction_N','vazao_m3s-1_bt'])\n",
    "    plt.xticks(rotation=45,fontsize=20);\n",
    "    path_out = \"figuras/2024051300/{name}.png\"\n",
    "    os.makedirs(os.path.dirname(path_out.format(name='speed')), exist_ok=True)\n",
    "    plt.savefig(path_out.format(name='speed'))\n",
    "    print(path_out.format(name='speed'))\n",
    "    plt.show()"
   ]
  },
  {
   "cell_type": "code",
   "execution_count": 16,
   "id": "2d09c90f",
   "metadata": {},
   "outputs": [],
   "source": [
    "def aggregate_and_convert(df_raw):\n",
    "    df = df_raw.resample('1h').mean()\n",
    "    #df['class_wind_direction_N'] = degree2directions(df['wind_direction_N'])\n",
    "\n",
    "    for v in ['wind_speed', 'Avg_Wnd_Sp']:\n",
    "        df.loc[:, v] = df[v] * 3.6\n",
    "\n",
    "    for v in ['water_l1', 'water_l1_ibge', 'water_l1_dhn', \n",
    "              'avg_water_l1', 'avg_water_l1_ibge', 'avg_water_l1_dhn']:\n",
    "        df.loc[:, v] = df[v] / 100\n",
    "    return df"
   ]
  },
  {
   "cell_type": "code",
   "execution_count": 17,
   "id": "b7c1c649",
   "metadata": {},
   "outputs": [
    {
     "name": "stdout",
     "output_type": "stream",
     "text": [
      "requesting data from 2024-05-01 00:00:00+00:00 to 2024-05-13 16:58:51+00:00\n"
     ]
    },
    {
     "name": "stderr",
     "output_type": "stream",
     "text": [
      "/tmp/ipykernel_73543/1533892018.py:32: DeprecationWarning: In a future version, `df.iloc[:, i] = newvals` will attempt to set the values inplace instead of always setting a new array. To retain the old behavior, use either `df[df.columns[i]] = newvals` or, if columns are non-unique, `df.isetitem(i, newvals)`\n",
      "  df_level.loc[:, col] = df_level[col].astype('float')\n"
     ]
    },
    {
     "name": "stdout",
     "output_type": "stream",
     "text": [
      "requesting data from 2024-05-01 00:00:00+00:00 to 2024-05-13 16:59:07+00:00\n"
     ]
    },
    {
     "name": "stderr",
     "output_type": "stream",
     "text": [
      "/tmp/ipykernel_73543/1720065068.py:33: DeprecationWarning: In a future version, `df.iloc[:, i] = newvals` will attempt to set the values inplace instead of always setting a new array. To retain the old behavior, use either `df[df.columns[i]] = newvals` or, if columns are non-unique, `df.isetitem(i, newvals)`\n",
      "  df_wind.loc[:, col] = df_wind[col].astype('float')\n"
     ]
    }
   ],
   "source": [
    "df_vazao = read_vazao()\n",
    "df_level = read_level(\"2024-05-01T00:00:00\", datetime.now().strftime(\"%Y-%m-%dT%H:%M:%S\"))\n",
    "df_wind = read_wind(\"2024-05-01T00:00:00\", datetime.now().strftime(\"%Y-%m-%dT%H:%M:%S\"))"
   ]
  },
  {
   "cell_type": "code",
   "execution_count": 18,
   "id": "ccb15b77",
   "metadata": {},
   "outputs": [],
   "source": [
    "df_raw = pd.concat([df_wind, df_level, df_vazao], axis=1).astype('float') #\n",
    "df_raw.to_csv('data_raw.csv')"
   ]
  },
  {
   "cell_type": "code",
   "execution_count": 19,
   "id": "b36698b3",
   "metadata": {},
   "outputs": [],
   "source": [
    "df = aggregate_and_convert(df_raw)\n",
    "df.to_csv('data_hourly.csv')"
   ]
  },
  {
   "cell_type": "code",
   "execution_count": null,
   "id": "2a63aaa8",
   "metadata": {},
   "outputs": [],
   "source": []
  },
  {
   "cell_type": "code",
   "execution_count": null,
   "id": "5fdf6b45",
   "metadata": {},
   "outputs": [],
   "source": [
    "df['class_wind_direction_N'] = df['wind_direction_N'].map(degree2directions)\n",
    "df['class_wind_direction_N']"
   ]
  },
  {
   "cell_type": "code",
   "execution_count": null,
   "id": "b09fe638",
   "metadata": {},
   "outputs": [],
   "source": [
    "plot_boxplot(df)\n",
    "for i, v in enumerate(['wind_speed', 'Avg_Wnd_Sp']):\n",
    "    df.loc[:, v][df[v]>100] = np.nan\n",
    "\n",
    "print('05 - *'*10)\n",
    "df[['wind_speed', 'Avg_Wnd_Sp']].boxplot(figsize=(20,8))\n",
    "#.drop(columns=['wind_direction_N','vazao_m3s-1_bt'])\n",
    "plt.xticks(rotation=45,fontsize=20);\n",
    "plt.show()"
   ]
  },
  {
   "cell_type": "markdown",
   "id": "a6d0d952",
   "metadata": {},
   "source": [
    "# Analise da correlação de velocidade:\n",
    "### 1. Correlação negativa durante as primeiras 10 horas\n",
    "### 2. A partir de algumas horas, 36 neste caso, houve correlação positiva"
   ]
  },
  {
   "cell_type": "markdown",
   "id": "c99edb13",
   "metadata": {},
   "source": [
    "# Analise da correlação de direção:\n",
    "### 1. Difícil interpretação"
   ]
  },
  {
   "cell_type": "code",
   "execution_count": null,
   "id": "4d5f5e4b",
   "metadata": {},
   "outputs": [],
   "source": [
    "variables = [\"wind_speed\",\"wind_direction_N\"]\n",
    " #\"Avg_Wnd_Sp\", \n",
    "refvars = [\"water_l1_ibge\"]\n",
    "#[\"water_l1\", \"water_l1_ibge\", \"water_l1_dhn\", \"avg_water_l1\", \"avg_water_l1_ibge\", \"avg_water_l1_dhn\"]\n",
    "for refvar in refvars:\n",
    "    plot_lag_correlation(refvar, variables)"
   ]
  },
  {
   "cell_type": "code",
   "execution_count": null,
   "id": "37405723",
   "metadata": {},
   "outputs": [],
   "source": [
    "variables = [\"wind_speed\",\"wind_direction_N\"]\n",
    "refvars = [\"water_l1_ibge\"]\n",
    "laggeds, corrs = get_lags('wind_speed', 'water_l1_ibge')\n",
    "i_corrs = [(i, value) for i, value in enumerate(np.where(np.abs(corrs)>=0.5, corrs, None)) if value is not None]\n",
    "corr_laggeds = laggeds.iloc[:,[i for i,v in i_corrs]]"
   ]
  },
  {
   "cell_type": "code",
   "execution_count": null,
   "id": "0b8d9fc1",
   "metadata": {},
   "outputs": [],
   "source": [
    "init = '20240509T00'\n",
    "df_sel = df[df.index >= init]\n",
    "index = [t.to_pydatetime() for t in df_sel.index ] #strftime('%Y%m%dT%H')"
   ]
  },
  {
   "cell_type": "code",
   "execution_count": null,
   "id": "6fdcf77e",
   "metadata": {},
   "outputs": [],
   "source": [
    "fig, ax = plt.subplots(figsize=(20, 8), dpi=300)\n",
    "\n",
    "ax.plot(index, df_sel['avg_water_l1_ibge'].values, label='Nível do Canal Boia (m)', color='blue')\n",
    "\n",
    "ax2 = ax.twinx()\n",
    "ax2.plot(index, df_sel['wind_speed'].values, label='Velocidade do Vento', color='black')\n",
    "\n",
    "for i, l in enumerate(list(corr_laggeds.columns)):\n",
    "    ax2.plot(df_sel['wind_speed'].shift(int(l)), '--', label=l, alpha=0.5)\n",
    "\n",
    "ax.grid(True, linestyle='--', linewidth=0.5, color='gray')\n",
    "ax.legend(loc='upper left')\n",
    "ax2.legend(loc='upper right')\n",
    "ax.set_title('Dados de Nível do Canal Boia, Velocidade do Vento, Direção do Vento')\n",
    "ax.set_xlabel('Data/Hora')\n",
    "ax.set_ylabel('Nível do Canal Boia (m) / Maré')\n",
    "ax2.set_ylabel('Velocidade do Vento (km/h)')\n",
    "\n",
    "for i, direcao in enumerate(df_sel['wind_direction_N']):\n",
    "    direcao = degrees_to_radians_adjusted(direcao)\n",
    "    wind_x = np.sin(direcao)\n",
    "    wind_y = np.cos(direcao)\n",
    "    ax2.quiver(index[i], df_sel['wind_speed'].values[i], wind_x, wind_y, scale=100)\n",
    "\n",
    "#for i, direcao in enumerate(degree2directions(df_sel['wind_direction_N'])):\n",
    "    #vazao = df_sel['vazao_m3s-1_bt'][i]\n",
    "    #if vazao > 0:\n",
    "        #ax2.scatter(df_sel.index[i], 1.5, color='black');\n",
    "        #ax2.text(df_sel.index[i], 1.5, int(vazao), ha='center', fontsize=12, rotation=45);\n",
    "#    ax2.text(index[i], df_sel['wind_speed'].values[i], direcao, ha='center', fontsize=12, rotation=45);\n",
    "\n",
    "\n",
    "plt.xticks(rotation=45);\n",
    "\n",
    "plt.tight_layout()\n",
    "plt.show()"
   ]
  },
  {
   "cell_type": "code",
   "execution_count": null,
   "id": "a58628c7",
   "metadata": {},
   "outputs": [],
   "source": [
    "\n",
    "def degrees_to_radians_adjusted(degrees):\n",
    "    return (180 - degrees) * np.pi / 180\n",
    "\n",
    "\n",
    "# Adicionando o texto com a direção do vento\n",
    "for i, direcao in enumerate(df_sel['wind_direction_N']):\n",
    "    direcao = degrees_to_radians_adjusted(direcao)\n",
    "    wind_x = np.sin(direcao)\n",
    "    wind_y = np.cos(direcao)\n",
    "    ax2.quiver(index[i], index[i], wind_x, wind_y, scale=50)\n",
    "    #ax2.text(index[i], df_sel['wind_speed'].values[i], direcao, ha='center', fontsize=12, rotation=45);\n",
    "\n"
   ]
  },
  {
   "cell_type": "code",
   "execution_count": null,
   "id": "0172dcd8",
   "metadata": {},
   "outputs": [],
   "source": [
    "sel_lags['-063'].plot()"
   ]
  },
  {
   "cell_type": "code",
   "execution_count": null,
   "id": "2b03c9e2",
   "metadata": {},
   "outputs": [],
   "source": []
  }
 ],
 "metadata": {
  "kernelspec": {
   "display_name": "Python 3 (ipykernel)",
   "language": "python",
   "name": "python3"
  },
  "language_info": {
   "codemirror_mode": {
    "name": "ipython",
    "version": 3
   },
   "file_extension": ".py",
   "mimetype": "text/x-python",
   "name": "python",
   "nbconvert_exporter": "python",
   "pygments_lexer": "ipython3",
   "version": "3.11.3"
  }
 },
 "nbformat": 4,
 "nbformat_minor": 5
}
